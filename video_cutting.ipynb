{
 "cells": [
  {
   "cell_type": "markdown",
   "id": "74ffc17b",
   "metadata": {},
   "source": [
    "# Cut Off First X seconds of a Video Using OpenCV in Python\n",
    "This notebook demonstrates how to cut off the first X seconds of a video using OpenCV in Python."
   ]
  },
  {
   "cell_type": "markdown",
   "id": "52f4a241",
   "metadata": {},
   "source": [
    "### First Pick:\n",
    "- **Skip Duration (seconds)**\n",
    "- **Output File Name**\n",
    "- **Input File Name**"
   ]
  },
  {
   "cell_type": "code",
   "execution_count": 5,
   "id": "c2537327",
   "metadata": {},
   "outputs": [],
   "source": [
    "# Skip Duration in Seconds\n",
    "skip_duration = 90\n",
    "# Initialize Document folder\n",
    "doc_folder = 'test_content/'\n",
    "# Input video file path\n",
    "input_video_path = doc_folder + 'output2.avi'\n",
    "# Output video file path\n",
    "output_video_path = doc_folder + 'test_vid_1.avi'"
   ]
  },
  {
   "cell_type": "markdown",
   "id": "cf5ce0d5",
   "metadata": {},
   "source": [
    "**Then run the code!**\n",
    " \n",
    "Note: It will take around a minute."
   ]
  },
  {
   "cell_type": "code",
   "execution_count": 6,
   "id": "b167c93e",
   "metadata": {},
   "outputs": [
    {
     "name": "stdout",
     "output_type": "stream",
     "text": [
      "The first 2 minutes of the video have been cut off and saved as test_content/test_vid_1.avi\n"
     ]
    }
   ],
   "source": [
    "import cv2\n",
    "\n",
    "# Open the video file\n",
    "cap = cv2.VideoCapture(input_video_path)\n",
    "\n",
    "# Get video properties\n",
    "fps = cap.get(cv2.CAP_PROP_FPS)  # Frame rate\n",
    "frame_count = int(cap.get(cv2.CAP_PROP_FRAME_COUNT))  # Total number of frames\n",
    "duration = frame_count / fps  # Duration in seconds\n",
    "\n",
    "# Calculate the number of frames to skip\n",
    "frames_to_skip = int(skip_duration * fps)\n",
    "\n",
    "# Get frame width and height\n",
    "frame_width = int(cap.get(cv2.CAP_PROP_FRAME_WIDTH))\n",
    "frame_height = int(cap.get(cv2.CAP_PROP_FRAME_HEIGHT))\n",
    "\n",
    "# Define the codec and create VideoWriter object\n",
    "fourcc = cv2.VideoWriter_fourcc(*'mp4v')  # Codec for mp4\n",
    "out = cv2.VideoWriter(output_video_path, fourcc, fps, (frame_width, frame_height))\n",
    "\n",
    "# Skip the first 2 minutes\n",
    "for _ in range(frames_to_skip):\n",
    "    ret, frame = cap.read()\n",
    "    if not ret:\n",
    "        break\n",
    "\n",
    "# Write the remaining frames to the output video\n",
    "while True:\n",
    "    ret, frame = cap.read()\n",
    "    if not ret:\n",
    "        break\n",
    "    out.write(frame)\n",
    "\n",
    "# Release everything if job is finished\n",
    "cap.release()\n",
    "out.release()\n",
    "\n",
    "print(f'The first 2 minutes of the video have been cut off and saved as {output_video_path}')"
   ]
  }
 ],
 "metadata": {
  "kernelspec": {
   "display_name": "Python 3",
   "language": "python",
   "name": "python3"
  },
  "language_info": {
   "codemirror_mode": {
    "name": "ipython",
    "version": 3
   },
   "file_extension": ".py",
   "mimetype": "text/x-python",
   "name": "python",
   "nbconvert_exporter": "python",
   "pygments_lexer": "ipython3",
   "version": "3.12.3"
  }
 },
 "nbformat": 4,
 "nbformat_minor": 5
}
